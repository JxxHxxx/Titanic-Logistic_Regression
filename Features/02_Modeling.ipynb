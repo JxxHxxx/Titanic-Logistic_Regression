{
 "cells": [
  {
   "cell_type": "markdown",
   "source": [
    "# 03 Modeling To Do\r\n",
    "\r\n",
    "1. Overfitting 대비\r\n",
    "\r\n",
    "2. 3가지 모델 적용\r\n",
    "\r\n",
    "- logistic Regression\r\n",
    "- SVC\r\n",
    "- Random Forest\r\n",
    "\r\n",
    "\r\n"
   ],
   "metadata": {}
  },
  {
   "cell_type": "code",
   "execution_count": 1,
   "source": [
    "import pandas as pd\r\n",
    "import matplotlib.pyplot as plt\r\n",
    "\r\n",
    "train = pd.read_csv('../Data/trainPrePro2.csv')\r\n",
    "test = pd.read_csv('../Data/testPrePro2.csv')"
   ],
   "outputs": [],
   "metadata": {}
  },
  {
   "cell_type": "code",
   "execution_count": 5,
   "source": [
    "train.info()"
   ],
   "outputs": [
    {
     "output_type": "stream",
     "name": "stdout",
     "text": [
      "<class 'pandas.core.frame.DataFrame'>\n",
      "RangeIndex: 891 entries, 0 to 890\n",
      "Data columns (total 16 columns):\n",
      " #   Column         Non-Null Count  Dtype  \n",
      "---  ------         --------------  -----  \n",
      " 0   PassengerId    891 non-null    int64  \n",
      " 1   Survived       891 non-null    int64  \n",
      " 2   Age            891 non-null    float64\n",
      " 3   Fare           891 non-null    float64\n",
      " 4   Pclass_S       891 non-null    int64  \n",
      " 5   Pclass_T       891 non-null    int64  \n",
      " 6   Sex_male       891 non-null    int64  \n",
      " 7   Embarked_Q     891 non-null    int64  \n",
      " 8   Embarked_S     891 non-null    int64  \n",
      " 9   Title_Miss     891 non-null    int64  \n",
      " 10  Title_Mr       891 non-null    int64  \n",
      " 11  Title_Mrs      891 non-null    int64  \n",
      " 12  Title_Others   891 non-null    int64  \n",
      " 13  Cabin_isin_Y   891 non-null    int64  \n",
      " 14  Family_size_M  891 non-null    int64  \n",
      " 15  Family_size_S  891 non-null    int64  \n",
      "dtypes: float64(2), int64(14)\n",
      "memory usage: 111.5 KB\n"
     ]
    }
   ],
   "metadata": {}
  },
  {
   "cell_type": "code",
   "execution_count": 6,
   "source": [
    "featrues_drop = ['PassengerId','Survived']\r\n",
    "train_features = train.drop(featrues_drop, axis=1)\r\n",
    "train_target = train['Survived']\r\n",
    "test_features = test.drop(['PassengerId'], axis=1)\r\n",
    "\r\n",
    "print(train_features.shape, train_target.shape, test_features.shape)"
   ],
   "outputs": [
    {
     "output_type": "stream",
     "name": "stdout",
     "text": [
      "(891, 14) (891,) (418, 14)\n"
     ]
    }
   ],
   "metadata": {}
  },
  {
   "cell_type": "code",
   "execution_count": 9,
   "source": [
    "from sklearn.model_selection import cross_val_score\r\n",
    "\r\n",
    "from sklearn.linear_model import LogisticRegression\r\n",
    "from sklearn.svm import SVC\r\n",
    "from sklearn.ensemble import RandomForestClassifier\r\n"
   ],
   "outputs": [],
   "metadata": {}
  },
  {
   "cell_type": "code",
   "execution_count": 10,
   "source": [
    "def ModelTraining(model):\r\n",
    "    model.fit(train_features, train_target)\r\n",
    "    predict_target = model.predict(test_features)\r\n",
    "    accuracy = round(cross_val_score(model, train_features, train_target).mean()*100, 4)\r\n",
    "    print(\"Accuracy : \", accuracy , \"%\")\r\n",
    "    \r\n",
    "    return predict_target"
   ],
   "outputs": [],
   "metadata": {}
  },
  {
   "cell_type": "code",
   "execution_count": 12,
   "source": [
    "log_pred = ModelTraining(LogisticRegression())\r\n",
    "svm_pred = ModelTraining(SVC())\r\n",
    "rf_pred = ModelTraining(RandomForestClassifier(n_estimators=100))\r\n"
   ],
   "outputs": [
    {
     "output_type": "stream",
     "name": "stdout",
     "text": [
      "Accuracy :  82.3784 %\n",
      "Accuracy :  82.0419 %\n",
      "Accuracy :  80.2454 %\n"
     ]
    }
   ],
   "metadata": {}
  },
  {
   "cell_type": "code",
   "execution_count": 14,
   "source": [
    "submission = pd.DataFrame({'PassengerId' : test['PassengerId'],\r\n",
    "                            'Survived' : log_pred})\r\n",
    "\r\n",
    "submission.to_csv('../Data/SubmissionLOG01.csv', index=False)"
   ],
   "outputs": [],
   "metadata": {}
  },
  {
   "cell_type": "markdown",
   "source": [
    "## 후기\r\n",
    "- 로지스틱 회귀 분석 score 0.77751\r\n",
    "- 서포트 벡터 머신 score 0.78229\r\n",
    "\r\n",
    "- 나는 승부욕이 강한편이라 랭킹권에 들기 위해서 무지성 답안지 제출\r\n",
    "- logistic Regression 의 경우 피쳐를 간소화하는게 높은 스코어가 나왔다. \r\n",
    "\r\n",
    "- 참고로 Adaboost 등 decision Tree 에 기반한 최신 모델들이 정답률이 높다고 합니다. 치트키 같아서 사용하진 않음\r\n",
    "- 그리고 decision Tree 류는 스케일링에 영향을 덜? 안? 받아서 내가 전처리한 셋은 그닥 효율적이지 않음, 드랍한 피처들도 엄청 많기도 하고...\r\n",
    "- "
   ],
   "metadata": {}
  },
  {
   "cell_type": "markdown",
   "source": [],
   "metadata": {}
  }
 ],
 "metadata": {
  "orig_nbformat": 4,
  "language_info": {
   "name": "python",
   "version": "3.8.10",
   "mimetype": "text/x-python",
   "codemirror_mode": {
    "name": "ipython",
    "version": 3
   },
   "pygments_lexer": "ipython3",
   "nbconvert_exporter": "python",
   "file_extension": ".py"
  },
  "kernelspec": {
   "name": "python3",
   "display_name": "Python 3.8.10 64-bit"
  },
  "interpreter": {
   "hash": "7f09f6c13a7c7aa057c810448856952a1755399d2db0cdb0b52c16a6e1a96a6e"
  }
 },
 "nbformat": 4,
 "nbformat_minor": 2
}